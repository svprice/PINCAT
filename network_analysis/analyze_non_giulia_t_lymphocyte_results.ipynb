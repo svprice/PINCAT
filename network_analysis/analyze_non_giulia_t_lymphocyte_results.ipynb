{
 "cells": [
  {
   "cell_type": "code",
   "execution_count": 21,
   "metadata": {},
   "outputs": [],
   "source": [
    "import pandas as pd\n",
    "import matplotlib.pyplot as plt"
   ]
  },
  {
   "cell_type": "code",
   "execution_count": 16,
   "metadata": {},
   "outputs": [],
   "source": [
    "def cleanName(filename):\n",
    "    return \"_\".join(filename.split('/')[-1].split('_')[:-1])"
   ]
  },
  {
   "cell_type": "code",
   "execution_count": 57,
   "metadata": {},
   "outputs": [
    {
     "name": "stdout",
     "output_type": "stream",
     "text": [
      "24\n"
     ]
    },
    {
     "data": {
      "text/html": [
       "<div>\n",
       "<style scoped>\n",
       "    .dataframe tbody tr th:only-of-type {\n",
       "        vertical-align: middle;\n",
       "    }\n",
       "\n",
       "    .dataframe tbody tr th {\n",
       "        vertical-align: top;\n",
       "    }\n",
       "\n",
       "    .dataframe thead th {\n",
       "        text-align: right;\n",
       "    }\n",
       "</style>\n",
       "<table border=\"1\" class=\"dataframe\">\n",
       "  <thead>\n",
       "    <tr style=\"text-align: right;\">\n",
       "      <th></th>\n",
       "      <th>nodelist</th>\n",
       "      <th>edgelist</th>\n",
       "      <th>num_nodes</th>\n",
       "      <th>num_edges</th>\n",
       "      <th>giulia_spatial_entropy</th>\n",
       "      <th>runtime</th>\n",
       "      <th>age</th>\n",
       "      <th>gender</th>\n",
       "      <th>node_entropy</th>\n",
       "    </tr>\n",
       "  </thead>\n",
       "  <tbody>\n",
       "    <tr>\n",
       "      <th>2</th>\n",
       "      <td>68_M_20_2</td>\n",
       "      <td>68_M_20_2</td>\n",
       "      <td>6402</td>\n",
       "      <td>502865</td>\n",
       "      <td>1.815416e+06</td>\n",
       "      <td>97.217744</td>\n",
       "      <td>68</td>\n",
       "      <td>M</td>\n",
       "      <td>283.570163</td>\n",
       "    </tr>\n",
       "    <tr>\n",
       "      <th>6</th>\n",
       "      <td>46_M_11_1</td>\n",
       "      <td>46_M_11_1</td>\n",
       "      <td>6402</td>\n",
       "      <td>502865</td>\n",
       "      <td>1.814314e+06</td>\n",
       "      <td>113.547492</td>\n",
       "      <td>46</td>\n",
       "      <td>M</td>\n",
       "      <td>283.398056</td>\n",
       "    </tr>\n",
       "    <tr>\n",
       "      <th>13</th>\n",
       "      <td>32_M_5_2</td>\n",
       "      <td>32_M_5_2</td>\n",
       "      <td>6402</td>\n",
       "      <td>502865</td>\n",
       "      <td>1.816352e+06</td>\n",
       "      <td>154.697504</td>\n",
       "      <td>32</td>\n",
       "      <td>M</td>\n",
       "      <td>283.716278</td>\n",
       "    </tr>\n",
       "    <tr>\n",
       "      <th>14</th>\n",
       "      <td>56_M_16_1</td>\n",
       "      <td>56_M_16_1</td>\n",
       "      <td>6402</td>\n",
       "      <td>502865</td>\n",
       "      <td>1.814180e+06</td>\n",
       "      <td>98.028946</td>\n",
       "      <td>56</td>\n",
       "      <td>M</td>\n",
       "      <td>283.377111</td>\n",
       "    </tr>\n",
       "    <tr>\n",
       "      <th>16</th>\n",
       "      <td>56_M_16_2</td>\n",
       "      <td>56_M_16_2</td>\n",
       "      <td>6402</td>\n",
       "      <td>502865</td>\n",
       "      <td>1.825862e+06</td>\n",
       "      <td>123.106913</td>\n",
       "      <td>56</td>\n",
       "      <td>M</td>\n",
       "      <td>285.201861</td>\n",
       "    </tr>\n",
       "  </tbody>\n",
       "</table>\n",
       "</div>"
      ],
      "text/plain": [
       "     nodelist   edgelist  num_nodes  num_edges  giulia_spatial_entropy  \\\n",
       "2   68_M_20_2  68_M_20_2       6402     502865            1.815416e+06   \n",
       "6   46_M_11_1  46_M_11_1       6402     502865            1.814314e+06   \n",
       "13   32_M_5_2   32_M_5_2       6402     502865            1.816352e+06   \n",
       "14  56_M_16_1  56_M_16_1       6402     502865            1.814180e+06   \n",
       "16  56_M_16_2  56_M_16_2       6402     502865            1.825862e+06   \n",
       "\n",
       "       runtime  age gender  node_entropy  \n",
       "2    97.217744   68      M    283.570163  \n",
       "6   113.547492   46      M    283.398056  \n",
       "13  154.697504   32      M    283.716278  \n",
       "14   98.028946   56      M    283.377111  \n",
       "16  123.106913   56      M    285.201861  "
      ]
     },
     "execution_count": 57,
     "metadata": {},
     "output_type": "execute_result"
    }
   ],
   "source": [
    "df = pd.read_csv('giulia_t_lymphocytes_spatial_entropy.csv')\n",
    "df['nodelist'] = df['nodelist'].apply(cleanName)\n",
    "df['edgelist'] = df['edgelist'].apply(cleanName)\n",
    "df['age'] = df['nodelist'].apply(lambda x: int(x.split('_')[0]))\n",
    "df['gender'] = df['nodelist'].apply(lambda x: x.split('_')[1])\n",
    "df['node_entropy'] = df['giulia_spatial_entropy'] / df['num_nodes']\n",
    "df = df[df['gender']=='M']\n",
    "print(len(df))\n",
    "df.head()"
   ]
  },
  {
   "cell_type": "code",
   "execution_count": 56,
   "metadata": {},
   "outputs": [
    {
     "data": {
      "text/plain": [
       "<matplotlib.collections.PathCollection at 0x7f0b6a842b10>"
      ]
     },
     "execution_count": 56,
     "metadata": {},
     "output_type": "execute_result"
    },
    {
     "data": {
      "image/png": "[encoded data removed]",
      "text/plain": [
       "<Figure size 432x288 with 1 Axes>"
      ]
     },
     "metadata": {
      "needs_background": "light"
     },
     "output_type": "display_data"
    }
   ],
   "source": [
    "plt.scatter(df['age'],df['node_entropy'])"
   ]
  },
  {
   "cell_type": "code",
   "execution_count": 54,
   "metadata": {},
   "outputs": [
    {
     "name": "stdout",
     "output_type": "stream",
     "text": [
      "Num in each age group: [6, 2, 2, 2, 0]\n",
      "Age averages for each group: [30.0, 46.0, 56.0, 74.0, nan]\n"
     ]
    },
    {
     "data": {
      "image/png": "[encoded data removed]",
      "text/plain": [
       "<Figure size 432x288 with 1 Axes>"
      ]
     },
     "metadata": {
      "needs_background": "light"
     },
     "output_type": "display_data"
    }
   ],
   "source": [
    "a = df[df['age'].apply(lambda x: x in range(25,35))]\n",
    "b = df[df['age'].apply(lambda x: x in range(43,47))]\n",
    "c = df[df['age'].apply(lambda x: x in range(55,63))]\n",
    "d = df[df['age'].apply(lambda x: x in range(70,80))]\n",
    "e = df[df['age'].apply(lambda x: x in range(92,98))]\n",
    "\n",
    "num = [len(a),len(b),len(c),len(d),len(e)]\n",
    "\n",
    "am = a['age'].mean()\n",
    "bm = b['age'].mean()\n",
    "cm = c['age'].mean()\n",
    "dm = d['age'].mean()\n",
    "em = e['age'].mean()\n",
    "\n",
    "ages = [am,bm,cm,dm,em]\n",
    "\n",
    "ane = a['node_entropy'].mean()\n",
    "bne = b['node_entropy'].mean()\n",
    "cne = c['node_entropy'].mean()\n",
    "dne = d['node_entropy'].mean()\n",
    "ene = e['node_entropy'].mean()\n",
    "\n",
    "anev = a['node_entropy'].std()\n",
    "bnev = b['node_entropy'].std()\n",
    "cnev = c['node_entropy'].std()\n",
    "dnev = d['node_entropy'].std()\n",
    "enev = e['node_entropy'].std()\n",
    "\n",
    "entropy = [ane,bne,cne,dne,ene]\n",
    "error = [anev,bnev,cnev,dnev,enev]\n",
    "\n",
    "print(\"Num in each age group: \" + str(num))\n",
    "print(\"Age averages for each group: \" + str(ages))\n",
    "\n",
    "plt.errorbar(ages,entropy,yerr=error)\n",
    "plt.show()"
   ]
  },
  {
   "cell_type": "code",
   "execution_count": null,
   "metadata": {},
   "outputs": [],
   "source": []
  }
 ],
 "metadata": {
  "kernelspec": {
   "display_name": "Python 3",
   "language": "python",
   "name": "python3"
  },
  "language_info": {
   "codemirror_mode": {
    "name": "ipython",
    "version": 2
   },
   "file_extension": ".py",
   "mimetype": "text/x-python",
   "name": "python",
   "nbconvert_exporter": "python",
   "pygments_lexer": "ipython2",
   "version": "2.7.15rc1"
  }
 },
 "nbformat": 4,
 "nbformat_minor": 2
}
