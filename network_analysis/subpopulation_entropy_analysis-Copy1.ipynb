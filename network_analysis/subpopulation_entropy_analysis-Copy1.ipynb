{
 "cells": [
  {
   "cell_type": "code",
   "execution_count": 1,
   "metadata": {},
   "outputs": [],
   "source": [
    "import pandas as pd\n",
    "import matplotlib.pyplot as plt\n",
    "import scipy.stats as stats\n",
    "import numpy as np\n",
    "import seaborn as sns\n",
    "import os"
   ]
  },
  {
   "cell_type": "code",
   "execution_count": 2,
   "metadata": {},
   "outputs": [],
   "source": [
    "directory = 'subpopulation_analysis/'"
   ]
  },
  {
   "cell_type": "code",
   "execution_count": 10,
   "metadata": {},
   "outputs": [],
   "source": [
    "all_files = os.listdir(directory)\n",
    "\n",
    "all_subpops = ['Tcells']\n",
    "all_metrics = ['num_nodes','num_edges']\n",
    "\n",
    "dic = {}"
   ]
  },
  {
   "cell_type": "code",
   "execution_count": 11,
   "metadata": {},
   "outputs": [],
   "source": [
    "subpop_files = []\n",
    "\n",
    "for filename in all_files:\n",
    "    \n",
    "    if any(subpop in filename for subpop in all_subpops): \n",
    "        subpop_files.append(directory + filename)"
   ]
  },
  {
   "cell_type": "code",
   "execution_count": 12,
   "metadata": {},
   "outputs": [
    {
     "data": {
      "text/plain": [
       "['subpopulation_analysis/subpop_FA2_CD28_Tcells.csv',\n",
       " 'subpopulation_analysis/subpop_FA1_CD28_Tcells.csv',\n",
       " 'subpopulation_analysis/subpop_FA3_CD28_Tcells.csv']"
      ]
     },
     "execution_count": 12,
     "metadata": {},
     "output_type": "execute_result"
    }
   ],
   "source": [
    "subpop_files"
   ]
  },
  {
   "cell_type": "code",
   "execution_count": 13,
   "metadata": {},
   "outputs": [],
   "source": [
    "pn_files = [f for f in subpop_files if 'FA3' in f]\n",
    "young_files = [f for f in subpop_files if 'FA1' in f]\n",
    "old_files = [f for f in subpop_files if 'FA2' in f]"
   ]
  },
  {
   "cell_type": "code",
   "execution_count": 14,
   "metadata": {},
   "outputs": [],
   "source": [
    "def createDF(file_list):\n",
    "    df = pd.read_csv(file_list[0])\n",
    "    for i in range(1, len(file_list)):\n",
    "        df = df.append(pd.read_csv(file_list[i]))\n",
    "    return df"
   ]
  },
  {
   "cell_type": "code",
   "execution_count": 15,
   "metadata": {},
   "outputs": [],
   "source": [
    "pn = createDF(pn_files)\n",
    "young = createDF(young_files)\n",
    "old = createDF(old_files)"
   ]
  },
  {
   "cell_type": "code",
   "execution_count": 16,
   "metadata": {},
   "outputs": [
    {
     "name": "stdout",
     "output_type": "stream",
     "text": [
      "164\n",
      "156\n",
      "35\n"
     ]
    }
   ],
   "source": [
    "print(len(pn))\n",
    "print(len(young))\n",
    "print(len(old))"
   ]
  },
  {
   "cell_type": "code",
   "execution_count": 32,
   "metadata": {},
   "outputs": [
    {
     "data": {
      "text/plain": [
       "array(['FA3_CD28_Tcells'], dtype=object)"
      ]
     },
     "execution_count": 32,
     "metadata": {},
     "output_type": "execute_result"
    }
   ],
   "source": [
    "pn['subpopulation'].unique()"
   ]
  },
  {
   "cell_type": "code",
   "execution_count": 34,
   "metadata": {},
   "outputs": [
    {
     "data": {
      "text/plain": [
       "<Figure size 432x288 with 0 Axes>"
      ]
     },
     "metadata": {},
     "output_type": "display_data"
    }
   ],
   "source": [
    "for metric in all_metrics:\n",
    "\n",
    "    pn_df = pd.DataFrame({'group' : np.repeat('pn',len(pn)), metric : pn[metric]})\n",
    "    young_df = pd.DataFrame({'group' : np.repeat('young',len(young)), metric : young[metric]})\n",
    "    old_df = pd.DataFrame({'group' : np.repeat('old',len(old)), metric : old[metric]})\n",
    "\n",
    "    all_df = pn_df.append(young_df).append(old_df)\n",
    "\n",
    "    sns_fig = sns.boxplot(x='group',y=metric,data=all_df, palette=\"Blues\")\n",
    "    ax = sns.stripplot(x='group', y=metric, data=all_df, color=\"purple\", jitter=0.2, size=2.5)\n",
    "    plt.title(\"T Cells \" + metric)\n",
    "\n",
    "    for patch in ax.artists:\n",
    "     r, g, b, a = patch.get_facecolor()\n",
    "     patch.set_facecolor((r, g, b, .5))\n",
    "\n",
    "    fig = sns_fig.get_figure()\n",
    "    fig.savefig(\"subpopulation_graphs/Tcells_\" + metric + \".png\",dpi=600)\n",
    "    plt.clf()"
   ]
  },
  {
   "cell_type": "code",
   "execution_count": 35,
   "metadata": {},
   "outputs": [],
   "source": [
    "pn['entropy_per_node'] = pn['giulia_spatial_entropy'] / pn['num_nodes']\n",
    "young['entropy_per_node'] = young['giulia_spatial_entropy'] / young['num_nodes']\n",
    "old['entropy_per_node'] = old['giulia_spatial_entropy'] / old['num_nodes']\n"
   ]
  },
  {
   "cell_type": "code",
   "execution_count": 36,
   "metadata": {},
   "outputs": [
    {
     "data": {
      "image/png": "[encoded data removed]",
      "text/plain": [
       "<Figure size 432x288 with 1 Axes>"
      ]
     },
     "metadata": {
      "needs_background": "light"
     },
     "output_type": "display_data"
    }
   ],
   "source": [
    "pn_df = pd.DataFrame({'group' : np.repeat('pn',len(pn)), 'entropy_per_node' : pn['entropy_per_node']})\n",
    "young_df = pd.DataFrame({'group' : np.repeat('young',len(young)), 'entropy_per_node' : young['entropy_per_node']})\n",
    "old_df = pd.DataFrame({'group' : np.repeat('old',len(old)), 'entropy_per_node' : old['entropy_per_node']})\n",
    "\n",
    "all_df = pn_df.append(young_df).append(old_df)\n",
    "\n",
    "sns_fig = sns.boxplot(x='group',y='entropy_per_node',data=all_df, palette=\"Blues\")\n",
    "ax = sns.stripplot(x='group', y='entropy_per_node', data=all_df, color=\"purple\", jitter=0.2, size=2.5)\n",
    "plt.title(\"T Cells entropy per node\")\n",
    "\n",
    "for patch in ax.artists:\n",
    " r, g, b, a = patch.get_facecolor()\n",
    " patch.set_facecolor((r, g, b, .5))\n",
    "\n",
    "fig = sns_fig.get_figure()\n",
    "fig.savefig(\"subpopulation_graphs/Tcells_entropy_per_node.png\",dpi=600)"
   ]
  }
 ],
 "metadata": {
  "kernelspec": {
   "display_name": "Python 3",
   "language": "python",
   "name": "python3"
  },
  "language_info": {
   "codemirror_mode": {
    "name": "ipython",
    "version": 3
   },
   "file_extension": ".py",
   "mimetype": "text/x-python",
   "name": "python",
   "nbconvert_exporter": "python",
   "pygments_lexer": "ipython3",
   "version": "3.7.3"
  }
 },
 "nbformat": 4,
 "nbformat_minor": 2
}
