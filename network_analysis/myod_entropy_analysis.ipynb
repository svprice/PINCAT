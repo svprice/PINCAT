{
 "cells": [
  {
   "cell_type": "code",
   "execution_count": 8,
   "metadata": {},
   "outputs": [],
   "source": [
    "import pandas as pd\n",
    "import matplotlib.pyplot as plt\n",
    "import scipy.stats as stats"
   ]
  },
  {
   "cell_type": "code",
   "execution_count": 9,
   "metadata": {},
   "outputs": [],
   "source": [
    "pn = pd.read_csv('partek_myod_postnatal_spatial_entropy.csv')\n",
    "young = pd.read_csv('partek_myod_young_spatial_entropy.csv')\n",
    "old = pd.read_csv('partek_myod_old_spatial_entropy.csv')\n"
   ]
  },
  {
   "cell_type": "code",
   "execution_count": 10,
   "metadata": {},
   "outputs": [],
   "source": [
    "pn['entropy_per_node'] = pn['giulia_spatial_entropy'] / pn['num_nodes']\n",
    "young['entropy_per_node'] = young['giulia_spatial_entropy'] / young['num_nodes']\n",
    "old['entropy_per_node'] = old['giulia_spatial_entropy'] / old['num_nodes']\n"
   ]
  },
  {
   "cell_type": "code",
   "execution_count": 11,
   "metadata": {},
   "outputs": [
    {
     "data": {
      "image/png": "[encoded data removed]",
      "text/plain": [
       "<Figure size 432x288 with 1 Axes>"
      ]
     },
     "metadata": {
      "needs_background": "light"
     },
     "output_type": "display_data"
    }
   ],
   "source": [
    "x = ['pn','young','old']\n",
    "\n",
    "pn_avg = pn['entropy_per_node'].mean()\n",
    "young_avg = young['entropy_per_node'].mean()\n",
    "old_avg = old['entropy_per_node'].mean()\n",
    "\n",
    "pn_std = pn['entropy_per_node'].std()\n",
    "young_std = young['entropy_per_node'].std()\n",
    "old_std = old['entropy_per_node'].std()\n",
    "\n",
    "y = [pn_avg, young_avg, old_avg]\n",
    "yerr= [pn_std, young_std, old_std]\n",
    "\n",
    "plt.errorbar(x,y,yerr=yerr)\n",
    "plt.show()"
   ]
  },
  {
   "cell_type": "code",
   "execution_count": 12,
   "metadata": {},
   "outputs": [
    {
     "name": "stdout",
     "output_type": "stream",
     "text": [
      "0.04364240935958519\n"
     ]
    }
   ],
   "source": [
    "f, p = stats.f_oneway(pn['entropy_per_node'], \n",
    "                      young['entropy_per_node'],\n",
    "                      old['entropy_per_node'])\n",
    "\n",
    "print(p)"
   ]
  }
 ],
 "metadata": {
  "kernelspec": {
   "display_name": "Python 3",
   "language": "python",
   "name": "python3"
  },
  "language_info": {
   "codemirror_mode": {
    "name": "ipython",
    "version": 2
   },
   "file_extension": ".py",
   "mimetype": "text/x-python",
   "name": "python",
   "nbconvert_exporter": "python",
   "pygments_lexer": "ipython2",
   "version": "2.7.15rc1"
  }
 },
 "nbformat": 4,
 "nbformat_minor": 2
}
