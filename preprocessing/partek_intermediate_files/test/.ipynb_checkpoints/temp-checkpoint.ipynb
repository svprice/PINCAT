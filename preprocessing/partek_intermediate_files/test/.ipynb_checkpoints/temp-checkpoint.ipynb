{
 "cells": [
  {
   "cell_type": "code",
   "execution_count": 49,
   "metadata": {},
   "outputs": [],
   "source": [
    "import pandas as pd\n",
    "import os"
   ]
  },
  {
   "cell_type": "code",
   "execution_count": 51,
   "metadata": {},
   "outputs": [
    {
     "data": {
      "text/plain": [
       "['all_expressed_genes.txt',\n",
       " 'EnsemblID',\n",
       " '.ipynb_checkpoints',\n",
       " 'cell_id_raw_name_map.csv',\n",
       " 'ensembl_interactions.csv',\n",
       " 'Gene_Symbol',\n",
       " 'db2db_GeneToEns_Responses',\n",
       " 'temp_gene_symbol.csv',\n",
       " 'gene_ensembl_map_all_probes.csv',\n",
       " 'gene_ensembl_map (copy).csv']"
      ]
     },
     "execution_count": 51,
     "metadata": {},
     "output_type": "execute_result"
    }
   ],
   "source": [
    "os.listdir('.')"
   ]
  },
  {
   "cell_type": "code",
   "execution_count": 28,
   "metadata": {},
   "outputs": [
    {
     "name": "stdout",
     "output_type": "stream",
     "text": [
      "1000/15925\n",
      "2000/15925\n",
      "3000/15925\n",
      "4000/15925\n",
      "5000/15925\n",
      "6000/15925\n",
      "7000/15925\n",
      "8000/15925\n",
      "9000/15925\n",
      "10000/15925\n",
      "11000/15925\n",
      "12000/15925\n",
      "13000/15925\n",
      "14000/15925\n",
      "15000/15925\n"
     ]
    }
   ],
   "source": [
    "gene_ensembl_map = pd.read_csv('gene_ensembl_map_all_probes.csv')\n",
    "gene_ensembl_dict = {}\n",
    "total = len(gene_ensembl_map['gene_symbol'].unique())\n",
    "count = 0\n",
    "for gene in gene_ensembl_map['gene_symbol'].unique():\n",
    "    gene_ensembl_dict[gene] = gene_ensembl_map[gene_ensembl_map['gene_symbol']==gene]['ensembl_id'].tolist()\n",
    "    count += 1\n",
    "    if count % 1000 == 0:\n",
    "        print((str(count) + '/' + str(total)))\n"
   ]
  },
  {
   "cell_type": "code",
   "execution_count": 41,
   "metadata": {},
   "outputs": [],
   "source": [
    "gs = pd.read_csv('temp_gene_symbol.csv')\n",
    "gs = gs[gs['expr_val'] > 0]\n",
    "gene_expr_dict = gs.set_index('gene_symbol').to_dict()['expr_val']"
   ]
  },
  {
   "cell_type": "code",
   "execution_count": 48,
   "metadata": {},
   "outputs": [
    {
     "data": {
      "text/plain": [
       "{'1500015A07Rik': 1.0,\n",
       " '2810403A07Rik': 2.0,\n",
       " 'AI314180': 1.0,\n",
       " 'Brip1os': 1.0,\n",
       " 'D830025C05Rik': 4.0,\n",
       " 'Fam46a': 3.0,\n",
       " 'Fam96b': 1.0,\n",
       " 'Gm2000': 1.0,\n",
       " 'Gm26917': 3.0,\n",
       " 'Gm42418': 1.0,\n",
       " 'Gm4673': 1.0,\n",
       " 'Gm47806': 1.0,\n",
       " 'Gm9844': 1.0,\n",
       " 'Kcnq1ot1': 2.0,\n",
       " 'Lncpint': 1.0,\n",
       " 'Malat1': 46.0,\n",
       " 'Minos1': 1.0,\n",
       " 'Neat1': 2.0,\n",
       " 'Nov': 1.0,\n",
       " 'Papd4': 1.0,\n",
       " 'Pvt1': 1.0,\n",
       " 'Rpl36a-ps1': 1.0,\n",
       " 'Tmem2': 2.0,\n",
       " 'Tmem5': 1.0,\n",
       " 'Usmg5': 1.0,\n",
       " 'Zcchc11': 1.0}"
      ]
     },
     "execution_count": 48,
     "metadata": {},
     "output_type": "execute_result"
    }
   ],
   "source": [
    "value = { k : gene_expr_dict[k] for k in set(gene_expr_dict) - set(gene_ensembl_dict) }\n",
    "value"
   ]
  },
  {
   "cell_type": "code",
   "execution_count": 43,
   "metadata": {},
   "outputs": [
    {
     "name": "stdout",
     "output_type": "stream",
     "text": [
      "Atp13a1,ENSMUSP00000034326,1.0\n",
      "Sept7,ENSMUSP00000127641,1.0\n",
      "Sept7,ENSMUSP00000110927,1.0\n",
      "Gpx1,ENSMUSP00000081010,1.0\n",
      "Gpx1,ENSMUSP00000141279,1.0\n",
      "Gpx1,ENSMUSP00000142257,1.0\n",
      "Sh3gl1,ENSMUSP00000003268,1.0\n",
      "Sh3gl1,ENSMUSP00000156570,1.0\n",
      "Ube3c,ENSMUSP00000045998,1.0\n",
      "Ube3c,ENSMUSP00000142474,1.0\n",
      "Ccdc115,ENSMUSP00000042918,1.0\n",
      "Hspd1,ENSMUSP00000027123,7.0\n",
      "Hspd1,ENSMUSP00000122947,7.0\n",
      "Hspd1,ENSMUSP00000119336,7.0\n",
      "Myadm,ENSMUSP00000145120,3.0\n",
      "Myadm,ENSMUSP00000094505,3.0\n",
      "Myadm,ENSMUSP00000145426,3.0\n",
      "Myadm,ENSMUSP00000144984,3.0\n",
      "Myadm,ENSMUSP00000131318,3.0\n",
      "Myadm,ENSMUSP00000137764,3.0\n",
      "Myadm,ENSMUSP00000155763,3.0\n",
      "Hsd11b1,ENSMUSP00000016338,2.0\n",
      "Hsd11b1,ENSMUSP00000123849,2.0\n",
      "Hsd11b1,ENSMUSP00000125620,2.0\n",
      "Hsd11b1,ENSMUSP00000124693,2.0\n",
      "Hsd11b1,ENSMUSP00000124142,2.0\n",
      "Cebpb,ENSMUSP00000069850,3.0\n",
      "Naa15,ENSMUSP00000141965,2.0\n",
      "Naa15,ENSMUSP00000141886,2.0\n",
      "Naa15,ENSMUSP00000141433,2.0\n",
      "Naa15,ENSMUSP00000029303,2.0\n",
      "Cebpd,ENSMUSP00000148145,2.0\n",
      "Fubp1,ENSMUSP00000143729,1.0\n",
      "Fubp1,ENSMUSP00000143101,1.0\n",
      "Fubp1,ENSMUSP00000143718,1.0\n",
      "Fubp1,ENSMUSP00000101727,1.0\n",
      "Fubp1,ENSMUSP00000143204,1.0\n",
      "Fubp1,ENSMUSP00000143019,1.0\n",
      "Fubp1,ENSMUSP00000143354,1.0\n",
      "Fubp1,ENSMUSP00000143686,1.0\n",
      "Fubp1,ENSMUSP00000143618,1.0\n",
      "Fubp1,ENSMUSP00000143370,1.0\n",
      "Fubp1,ENSMUSP00000142990,1.0\n",
      "Fubp1,ENSMUSP00000142638,1.0\n",
      "Fubp1,ENSMUSP00000143478,1.0\n",
      "Fubp1,ENSMUSP00000130145,1.0\n",
      "Slu7,ENSMUSP00000137281,1.0\n",
      "Slu7,ENSMUSP00000122142,1.0\n",
      "Slu7,ENSMUSP00000116609,1.0\n",
      "Slu7,ENSMUSP00000020681,1.0\n",
      "Mettl6,ENSMUSP00000154173,1.0\n",
      "Mettl6,ENSMUSP00000154487,1.0\n",
      "Mettl6,ENSMUSP00000154679,1.0\n",
      "Mettl6,ENSMUSP00000154580,1.0\n",
      "Mettl6,ENSMUSP00000154767,1.0\n",
      "Mettl6,ENSMUSP00000077138,1.0\n",
      "Mettl6,ENSMUSP00000153931,1.0\n",
      "Nid1,ENSMUSP00000005532,7.0\n",
      "Sf3a3,ENSMUSP00000030734,1.0\n",
      "Pitpna,ENSMUSP00000137510,1.0\n",
      "Pitpna,ENSMUSP00000137601,1.0\n",
      "Pitpna,ENSMUSP00000099567,1.0\n",
      "Pitpna,ENSMUSP00000115723,1.0\n",
      "Pitpnb,ENSMUSP00000142732,1.0\n",
      "Pitpnb,ENSMUSP00000083835,1.0\n",
      "Aven,ENSMUSP00000097184,1.0\n",
      "Aven,ENSMUSP00000003705,1.0\n",
      "Thy1,ENSMUSP00000149610,1.0\n",
      "Thy1,ENSMUSP00000150177,1.0\n",
      "Thy1,ENSMUSP00000150960,1.0\n",
      "Thy1,ENSMUSP00000110489,1.0\n",
      "Mllt1,ENSMUSP00000025053,1.0\n",
      "March7,ENSMUSP00000068961,1.0\n",
      "March7,ENSMUSP00000099808,1.0\n",
      "March7,ENSMUSP00000099809,1.0\n",
      "March7,ENSMUSP00000116925,1.0\n",
      "Yap1,ENSMUSP00000134007,1.0\n",
      "Yap1,ENSMUSP00000134237,1.0\n",
      "Yap1,ENSMUSP00000083772,1.0\n",
      "Yap1,ENSMUSP00000133959,1.0\n",
      "Yap1,ENSMUSP00000069554,1.0\n",
      "Yap1,ENSMUSP00000134250,1.0\n",
      "Mad2l1,ENSMUSP00000098897,1.0\n",
      "Mad2l1,ENSMUSP00000112304,1.0\n",
      "Snrpd3,ENSMUSP00000020397,1.0\n",
      "Snrpd3,ENSMUSP00000151655,1.0\n",
      "Btg1,ENSMUSP00000151604,1.0\n",
      "Btg1,ENSMUSP00000038863,1.0\n",
      "Ndrg1,ENSMUSP00000127099,8.0\n",
      "Ndrg1,ENSMUSP00000130150,8.0\n",
      "Ndrg1,ENSMUSP00000129093,8.0\n",
      "Ndrg1,ENSMUSP00000130281,8.0\n",
      "Ndrg1,ENSMUSP00000126091,8.0\n",
      "Ndrg1,ENSMUSP00000127940,8.0\n",
      "Ndrg1,ENSMUSP00000126985,8.0\n",
      "Ndrg1,ENSMUSP00000127075,8.0\n",
      "Ndrg1,ENSMUSP00000005256,8.0\n",
      "Ndrg1,ENSMUSP00000127302,8.0\n",
      "Ndrg1,ENSMUSP00000130584,8.0\n",
      "Zswim8,ENSMUSP00000153144,3.0\n",
      "Zswim8,ENSMUSP00000153285,3.0\n",
      "Zswim8,ENSMUSP00000022358,3.0\n",
      "Zswim8,ENSMUSP00000153027,3.0\n",
      "Zswim8,ENSMUSP00000153700,3.0\n",
      "Ubap2,ENSMUSP00000103703,1.0\n",
      "Ubap2,ENSMUSP00000121724,1.0\n",
      "Ubap2,ENSMUSP00000120205,1.0\n",
      "Ubap2,ENSMUSP00000030143,1.0\n",
      "Ubap2,ENSMUSP00000122256,1.0\n",
      "Ppp1r7,ENSMUSP00000124279,1.0\n",
      "Ppp1r7,ENSMUSP00000140544,1.0\n",
      "Ppp1r7,ENSMUSP00000027494,1.0\n",
      "Ppp1r2,ENSMUSP00000060118,1.0\n",
      "Ppp1r2,ENSMUSP00000110888,1.0\n",
      "H13,ENSMUSP00000120068,4.0\n",
      "H13,ENSMUSP00000086460,4.0\n",
      "H13,ENSMUSP00000078236,4.0\n",
      "H13,ENSMUSP00000105450,4.0\n",
      "Krtcap2,ENSMUSP00000130372,1.0\n",
      "Krtcap2,ENSMUSP00000043540,1.0\n",
      "Flii,ENSMUSP00000002889,1.0\n",
      "Sorbs1,ENSMUSP00000153080,1.0\n",
      "Sorbs1,ENSMUSP00000153450,1.0\n",
      "Sorbs1,ENSMUSP00000153336,1.0\n",
      "Sorbs1,ENSMUSP00000125768,1.0\n",
      "Sorbs1,ENSMUSP00000153313,1.0\n",
      "Sorbs1,ENSMUSP00000153257,1.0\n",
      "Sorbs1,ENSMUSP00000153009,1.0\n",
      "Sorbs1,ENSMUSP00000097066,1.0\n",
      "Sorbs1,ENSMUSP00000153097,1.0\n",
      "Sorbs1,ENSMUSP00000153489,1.0\n",
      "Sorbs1,ENSMUSP00000097065,1.0\n",
      "Sorbs1,ENSMUSP00000152957,1.0\n",
      "Sorbs1,ENSMUSP00000126460,1.0\n",
      "Cpq,ENSMUSP00000154802,3.0\n",
      "Cpq,ENSMUSP00000153768,3.0\n",
      "Cpq,ENSMUSP00000154400,3.0\n",
      "Cpq,ENSMUSP00000039046,3.0\n",
      "Lama4,ENSMUSP00000019992,2.0\n",
      "Slc7a6,ENSMUSP00000148794,1.0\n",
      "Slc7a6,ENSMUSP00000148353,1.0\n",
      "Slc7a6,ENSMUSP00000148620,1.0\n",
      "Slc7a6,ENSMUSP00000034378,1.0\n",
      "Slc7a6,ENSMUSP00000148693,1.0\n",
      "Rab14,ENSMUSP00000155278,2.0\n",
      "Rab14,ENSMUSP00000028238,2.0\n",
      "Rab14,ENSMUSP00000155540,2.0\n",
      "Amfr,ENSMUSP00000052258,2.0\n",
      "Amfr,ENSMUSP00000134924,2.0\n",
      "H2-M3,ENSMUSP00000035687,1.0\n",
      "Cxcl1,ENSMUSP00000031327,43.0\n",
      "Cxcl3,ENSMUSP00000031326,2.0\n",
      "Cxcl2,ENSMUSP00000144334,1.0\n",
      "Cxcl2,ENSMUSP00000074885,1.0\n",
      "Cxcl5,ENSMUSP00000031318,4.0\n",
      "Sh3pxd2b,ENSMUSP00000044276,1.0\n",
      "Golim4,ENSMUSP00000048997,1.0\n",
      "Golim4,ENSMUSP00000132910,1.0\n",
      "Golim4,ENSMUSP00000114006,1.0\n",
      "Golim4,ENSMUSP00000119501,1.0\n"
     ]
    },
    {
     "ename": "KeyError",
     "evalue": "'AI314180'",
     "output_type": "error",
     "traceback": [
      "\u001b[0;31m---------------------------------------------------------------------------\u001b[0m",
      "\u001b[0;31mKeyError\u001b[0m                                  Traceback (most recent call last)",
      "\u001b[0;32m<ipython-input-43-b72ac4576005>\u001b[0m in \u001b[0;36m<module>\u001b[0;34m()\u001b[0m\n\u001b[1;32m      1\u001b[0m \u001b[0;32mfor\u001b[0m \u001b[0mkey\u001b[0m \u001b[0;32min\u001b[0m \u001b[0mgene_expr_dict\u001b[0m\u001b[0;34m:\u001b[0m\u001b[0;34m\u001b[0m\u001b[0m\n\u001b[0;32m----> 2\u001b[0;31m     \u001b[0;32mfor\u001b[0m \u001b[0mens_id\u001b[0m \u001b[0;32min\u001b[0m \u001b[0mgene_ensembl_dict\u001b[0m\u001b[0;34m[\u001b[0m\u001b[0mkey\u001b[0m\u001b[0;34m]\u001b[0m\u001b[0;34m:\u001b[0m\u001b[0;34m\u001b[0m\u001b[0m\n\u001b[0m\u001b[1;32m      3\u001b[0m         \u001b[0;32mprint\u001b[0m\u001b[0;34m(\u001b[0m\u001b[0mkey\u001b[0m\u001b[0;34m+\u001b[0m\u001b[0;34m','\u001b[0m\u001b[0;34m+\u001b[0m\u001b[0mens_id\u001b[0m\u001b[0;34m+\u001b[0m\u001b[0;34m','\u001b[0m\u001b[0;34m+\u001b[0m\u001b[0mstr\u001b[0m\u001b[0;34m(\u001b[0m\u001b[0mgene_expr_dict\u001b[0m\u001b[0;34m[\u001b[0m\u001b[0mkey\u001b[0m\u001b[0;34m]\u001b[0m\u001b[0;34m)\u001b[0m\u001b[0;34m)\u001b[0m\u001b[0;34m\u001b[0m\u001b[0m\n",
      "\u001b[0;31mKeyError\u001b[0m: 'AI314180'"
     ]
    }
   ],
   "source": [
    "for key in gene_expr_dict:\n",
    "    for ens_id in gene_ensembl_dict[key]:\n",
    "        print(key+','+ens_id+','+str(gene_expr_dict[key]))"
   ]
  }
 ],
 "metadata": {
  "kernelspec": {
   "display_name": "Python 3",
   "language": "python",
   "name": "python3"
  },
  "language_info": {
   "codemirror_mode": {
    "name": "ipython",
    "version": 2
   },
   "file_extension": ".py",
   "mimetype": "text/x-python",
   "name": "python",
   "nbconvert_exporter": "python",
   "pygments_lexer": "ipython2",
   "version": "2.7.15rc1"
  }
 },
 "nbformat": 4,
 "nbformat_minor": 2
}
